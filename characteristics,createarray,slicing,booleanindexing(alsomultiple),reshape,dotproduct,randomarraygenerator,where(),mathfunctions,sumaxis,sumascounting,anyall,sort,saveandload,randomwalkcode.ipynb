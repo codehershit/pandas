{
 "cells": [
  {
   "cell_type": "code",
   "execution_count": 1,
   "metadata": {},
   "outputs": [],
   "source": [
    "import numpy as np\n",
    "import random"
   ]
  },
  {
   "cell_type": "code",
   "execution_count": 2,
   "metadata": {},
   "outputs": [
    {
     "data": {
      "text/plain": [
       "array([[ 1.5, -0.1,  3. ],\n",
       "       [ 0. , -3. ,  6.5]])"
      ]
     },
     "execution_count": 2,
     "metadata": {},
     "output_type": "execute_result"
    }
   ],
   "source": [
    "#create d dimensional array ndarray \n",
    "#using np.array()\n",
    "data = np.array([[1.5, -0.1,3], [0, -3, 6.5]],np.float64) #or dtype=int64) #list size should be same for all else error\n",
    "data"
   ]
  },
  {
   "cell_type": "code",
   "execution_count": 3,
   "metadata": {},
   "outputs": [
    {
     "data": {
      "text/plain": [
       "((2, 3), dtype('float64'), 2)"
      ]
     },
     "execution_count": 3,
     "metadata": {},
     "output_type": "execute_result"
    }
   ],
   "source": [
    "#characteristics\n",
    "#.shape --- a tuple indicating the rows*column\n",
    "#.dtype --- an object describing the data type of the array\n",
    "#.ndim --- retuns the no. of rows\n",
    "data.shape, data.dtype, data.ndim"
   ]
  },
  {
   "cell_type": "code",
   "execution_count": 4,
   "metadata": {},
   "outputs": [],
   "source": [
    "#all the ways to create an array:\n",
    "#array\tConvert input data (list, tuple, array, or other sequence type) to an ndarray #np.array(shape,dtype=None)\n",
    "#asarray\tConvert input to ndarray, but do not copy if the input is already an ndarray\n",
    "#arange\tLike the built-in range but returns an ndarray instead of a list (a range kinda) #np.arange(i)\n",
    "#ones\tProduce an array of all 1s with the given shape and data type #numpy.ones(shape, dtype=None)\n",
    "#ones_like\tones_like takes another array and produces a ones array of the same shape and data type #numpy.ones_like(a, dtype=None)\n",
    "#zeros, zeros_like\tLike ones and ones_like but producing arrays of 0s instead\n",
    "#empty, empty_like\tCreate new arrays without initializing entries, numpy.empty(shape, dtype=float) numpy.empty_like(prototype, dtype=None)\n",
    "#full\tProduce an array of the given shape values set to \"fill value\".#np.full(shape, fill_value, dtype=None)\n",
    "#full_like\t like ones_like with a fill value #numpy.full_like(a, fill_value, dtype=None)\n",
    "#identity\tIdentity matrix np.identity(n, dtype=None)"
   ]
  },
  {
   "cell_type": "code",
   "execution_count": 5,
   "metadata": {},
   "outputs": [
    {
     "name": "stdout",
     "output_type": "stream",
     "text": [
      "[0 1 2 3 4]\n"
     ]
    }
   ],
   "source": [
    "print(np.arange(5))"
   ]
  },
  {
   "cell_type": "code",
   "execution_count": 6,
   "metadata": {},
   "outputs": [
    {
     "name": "stdout",
     "output_type": "stream",
     "text": [
      "[[1. 1. 1.]\n",
      " [1. 1. 1.]\n",
      " [1. 1. 1.]]\n"
     ]
    }
   ],
   "source": [
    "x= np.ones((3,3))\n",
    "print(x)"
   ]
  },
  {
   "cell_type": "code",
   "execution_count": 7,
   "metadata": {},
   "outputs": [
    {
     "name": "stdout",
     "output_type": "stream",
     "text": [
      "[[1. 1. 1.]\n",
      " [1. 1. 1.]\n",
      " [1. 1. 1.]]\n"
     ]
    }
   ],
   "source": [
    "print(np.ones_like(x))"
   ]
  },
  {
   "cell_type": "code",
   "execution_count": 8,
   "metadata": {},
   "outputs": [
    {
     "name": "stdout",
     "output_type": "stream",
     "text": [
      "[[1. 0. 0.]\n",
      " [0. 1. 0.]\n",
      " [0. 0. 1.]]\n"
     ]
    }
   ],
   "source": [
    "print(np.identity(3))"
   ]
  },
  {
   "cell_type": "code",
   "execution_count": 9,
   "metadata": {},
   "outputs": [],
   "source": [
    "#eye\tCreate a matrix with 1s on the diagonal and 0s elsewhere \n",
    "#np.eye(N, M=None, k=0, dtype=<class 'float'>)\n",
    "#M(int, optional)Number of columns in the output. If None, defaults to N."
   ]
  },
  {
   "cell_type": "code",
   "execution_count": 10,
   "metadata": {},
   "outputs": [
    {
     "name": "stdout",
     "output_type": "stream",
     "text": [
      "[[1. 0. 0.]\n",
      " [0. 1. 0.]\n",
      " [0. 0. 1.]\n",
      " [0. 0. 0.]]\n"
     ]
    }
   ],
   "source": [
    "print(np.eye(4,M=3,k=0))"
   ]
  },
  {
   "cell_type": "code",
   "execution_count": 11,
   "metadata": {},
   "outputs": [],
   "source": [
    "#astype to specifically convert the dtype of array"
   ]
  },
  {
   "cell_type": "code",
   "execution_count": 12,
   "metadata": {},
   "outputs": [],
   "source": [
    "arr = np.array([1, 2, 3, 4, 5])\n",
    "float_arr = arr.astype(np.float64)"
   ]
  },
  {
   "cell_type": "code",
   "execution_count": 13,
   "metadata": {},
   "outputs": [
    {
     "data": {
      "text/plain": [
       "array([[False,  True, False],\n",
       "       [ True, False,  True]])"
      ]
     },
     "execution_count": 13,
     "metadata": {},
     "output_type": "execute_result"
    }
   ],
   "source": [
    "arr = np.array([[1., 2., 3.], [4., 5., 6.]])\n",
    "arr2 = np.array([[0., 4., 1.], [7., 2., 12.]])\n",
    "arr2 > arr"
   ]
  },
  {
   "cell_type": "code",
   "execution_count": 14,
   "metadata": {},
   "outputs": [],
   "source": [
    "#slicing,indexing works the same way as lists\n",
    "# one thing to remember is slicing does not create a new object. so any changes to slice aslo change the original array"
   ]
  },
  {
   "cell_type": "code",
   "execution_count": 15,
   "metadata": {},
   "outputs": [
    {
     "name": "stdout",
     "output_type": "stream",
     "text": [
      "[0 1 2 3 4 5 6 7 8 9]\n",
      "[ 0  1  2  3  4 64 64 64  8  9]\n"
     ]
    }
   ],
   "source": [
    "arr = np.arange(10)\n",
    "print(arr)\n",
    "arr_slice = arr[5:8]\n",
    "arr_slice[:] = 64\n",
    "print(arr)\n",
    "#expicitly use .copy() to make a copy"
   ]
  },
  {
   "cell_type": "code",
   "execution_count": 16,
   "metadata": {},
   "outputs": [],
   "source": [
    "#For 2d, axis 0 (first number) as the \"rows\" of the array and axis 1 (second number) as the \"columns.\""
   ]
  },
  {
   "cell_type": "code",
   "execution_count": 17,
   "metadata": {},
   "outputs": [
    {
     "data": {
      "text/plain": [
       "array([[1, 2, 3],\n",
       "       [4, 5, 6],\n",
       "       [7, 8, 9]])"
      ]
     },
     "execution_count": 17,
     "metadata": {},
     "output_type": "execute_result"
    }
   ],
   "source": [
    "arr2d = np.array([[1, 2, 3], [4, 5, 6], [7, 8, 9]])\n",
    "arr2d"
   ]
  },
  {
   "cell_type": "code",
   "execution_count": 18,
   "metadata": {},
   "outputs": [
    {
     "data": {
      "text/plain": [
       "3"
      ]
     },
     "execution_count": 18,
     "metadata": {},
     "output_type": "execute_result"
    }
   ],
   "source": [
    "arr2d[0][2]"
   ]
  },
  {
   "cell_type": "code",
   "execution_count": 19,
   "metadata": {},
   "outputs": [
    {
     "data": {
      "text/plain": [
       "3"
      ]
     },
     "execution_count": 19,
     "metadata": {},
     "output_type": "execute_result"
    }
   ],
   "source": [
    "# you can pass a comma-separated list of indices to select individual elements. doesn't work with nested lists\n",
    "arr2d[0,2]"
   ]
  },
  {
   "cell_type": "code",
   "execution_count": 20,
   "metadata": {},
   "outputs": [
    {
     "data": {
      "text/plain": [
       "array([[2, 3],\n",
       "       [5, 6]])"
      ]
     },
     "execution_count": 20,
     "metadata": {},
     "output_type": "execute_result"
    }
   ],
   "source": [
    "arr2d[:2, 1:]"
   ]
  },
  {
   "cell_type": "code",
   "execution_count": 21,
   "metadata": {},
   "outputs": [
    {
     "name": "stdout",
     "output_type": "stream",
     "text": [
      "[4 5]\n",
      "(2,)\n"
     ]
    }
   ],
   "source": [
    "lower_dim_slice = arr2d[1, :2]\n",
    "print(lower_dim_slice)\n",
    "print(lower_dim_slice.shape)"
   ]
  },
  {
   "cell_type": "code",
   "execution_count": 22,
   "metadata": {},
   "outputs": [
    {
     "data": {
      "text/plain": [
       "(2, 2, 3)"
      ]
     },
     "execution_count": 22,
     "metadata": {},
     "output_type": "execute_result"
    }
   ],
   "source": [
    "arr3d = np.array([[[1, 2, 3], [4, 5, 6]], [[7, 8, 9], [10, 11, 12]]])\n",
    "arr3d.shape"
   ]
  },
  {
   "cell_type": "code",
   "execution_count": 23,
   "metadata": {},
   "outputs": [
    {
     "data": {
      "text/plain": [
       "array([7, 8, 9])"
      ]
     },
     "execution_count": 23,
     "metadata": {},
     "output_type": "execute_result"
    }
   ],
   "source": [
    "arr3d[1, 0]"
   ]
  },
  {
   "cell_type": "code",
   "execution_count": 24,
   "metadata": {},
   "outputs": [
    {
     "name": "stdout",
     "output_type": "stream",
     "text": [
      "[[1]\n",
      " [4]\n",
      " [7]]\n",
      "(3, 1)\n",
      "[[1 4 7]]\n"
     ]
    }
   ],
   "source": [
    "y=arr2d[:, :1]\n",
    "print(y)\n",
    "print(y.shape)\n",
    "print(y.T)"
   ]
  },
  {
   "cell_type": "code",
   "execution_count": 25,
   "metadata": {},
   "outputs": [
    {
     "name": "stdout",
     "output_type": "stream",
     "text": [
      "[1 4 7]\n",
      "(3,)\n"
     ]
    }
   ],
   "source": [
    "y=arr2d[:, 0]\n",
    "print(y)\n",
    "print(y.shape)"
   ]
  },
  {
   "cell_type": "code",
   "execution_count": 26,
   "metadata": {},
   "outputs": [
    {
     "data": {
      "text/plain": [
       "array([ True, False, False,  True, False, False, False])"
      ]
     },
     "execution_count": 26,
     "metadata": {},
     "output_type": "execute_result"
    }
   ],
   "source": [
    "#boolean indexing\n",
    "names = np.array([\"Bob\", \"Joe\", \"Will\", \"Bob\", \"Will\", \"Joe\", \"Joe\"])\n",
    "data = np.array([[4, 7], [0, 2], [-5, 6], [0, 0], [1, 2], [-12, -4], [3, 4]])\n",
    "#comparisons (such as ==) with arrays are also arrays (boolean).\n",
    "names == \"Bob\""
   ]
  },
  {
   "cell_type": "code",
   "execution_count": 27,
   "metadata": {},
   "outputs": [
    {
     "data": {
      "text/plain": [
       "array([[4, 7],\n",
       "       [0, 0]])"
      ]
     },
     "execution_count": 27,
     "metadata": {},
     "output_type": "execute_result"
    }
   ],
   "source": [
    "#This Boolean array can be passed when indexing the array:\n",
    "data[names=='Bob']"
   ]
  },
  {
   "cell_type": "code",
   "execution_count": 28,
   "metadata": {},
   "outputs": [
    {
     "data": {
      "text/plain": [
       "array([7, 0])"
      ]
     },
     "execution_count": 28,
     "metadata": {},
     "output_type": "execute_result"
    }
   ],
   "source": [
    "#The Boolean array must be of the same length as the array axis it’s indexing.\n",
    "#also select from the rows where names == \"Bob\" and index the columns, too\n",
    "data[names == \"Bob\", 1]"
   ]
  },
  {
   "cell_type": "code",
   "execution_count": 29,
   "metadata": {},
   "outputs": [
    {
     "data": {
      "text/plain": [
       "array([False,  True,  True, False,  True,  True,  True])"
      ]
     },
     "execution_count": 29,
     "metadata": {},
     "output_type": "execute_result"
    }
   ],
   "source": [
    "#to select everything but \"Bob\" you can either use != or negate the condition using ~\n",
    "names != 'Bob'"
   ]
  },
  {
   "cell_type": "code",
   "execution_count": 30,
   "metadata": {},
   "outputs": [
    {
     "data": {
      "text/plain": [
       "array([False,  True,  True, False,  True,  True,  True])"
      ]
     },
     "execution_count": 30,
     "metadata": {},
     "output_type": "execute_result"
    }
   ],
   "source": [
    "~(names == 'Bob')"
   ]
  },
  {
   "cell_type": "code",
   "execution_count": 31,
   "metadata": {},
   "outputs": [
    {
     "data": {
      "text/plain": [
       "array([[  0,   2],\n",
       "       [ -5,   6],\n",
       "       [  1,   2],\n",
       "       [-12,  -4],\n",
       "       [  3,   4]])"
      ]
     },
     "execution_count": 31,
     "metadata": {},
     "output_type": "execute_result"
    }
   ],
   "source": [
    "data[~(names == 'Bob')]"
   ]
  },
  {
   "cell_type": "code",
   "execution_count": 32,
   "metadata": {},
   "outputs": [
    {
     "data": {
      "text/plain": [
       "array([ True, False,  True,  True,  True, False, False])"
      ]
     },
     "execution_count": 32,
     "metadata": {},
     "output_type": "execute_result"
    }
   ],
   "source": [
    "#To select two of the three names to combine multiple Boolean conditions,\n",
    "#use Boolean arithmetic operators like & (and) and | (or) (python functions and or doesnot work)\n",
    "mask = (names=='Bob') | (names=='Will')\n",
    "mask"
   ]
  },
  {
   "cell_type": "code",
   "execution_count": 33,
   "metadata": {},
   "outputs": [
    {
     "data": {
      "text/plain": [
       "array([[4, 7],\n",
       "       [0, 2],\n",
       "       [0, 6],\n",
       "       [0, 0],\n",
       "       [1, 2],\n",
       "       [0, 0],\n",
       "       [3, 4]])"
      ]
     },
     "execution_count": 33,
     "metadata": {},
     "output_type": "execute_result"
    }
   ],
   "source": [
    "#Boolean indexing and assigning the result to a new variable always creates a copy of the data.\n",
    "data[data < 0] = 0\n",
    "data"
   ]
  },
  {
   "cell_type": "code",
   "execution_count": 34,
   "metadata": {},
   "outputs": [
    {
     "name": "stdout",
     "output_type": "stream",
     "text": [
      "[[ 1  2  3]\n",
      " [ 4  5  6]\n",
      " [ 7  8  9]\n",
      " [10 11 12]]\n"
     ]
    }
   ],
   "source": [
    "#.reshape() to reshape the array\n",
    "arr = np.array([1, 2, 3, 4, 5, 6, 7, 8, 9, 10, 11, 12])\n",
    "newarr = arr.reshape(4, 3)\n",
    "print(newarr)"
   ]
  },
  {
   "cell_type": "code",
   "execution_count": 35,
   "metadata": {},
   "outputs": [
    {
     "name": "stdout",
     "output_type": "stream",
     "text": [
      "[[[ 1  2  3]\n",
      "  [ 4  5  6]]\n",
      "\n",
      " [[ 7  8  9]\n",
      "  [10 11 12]]]\n"
     ]
    }
   ],
   "source": [
    "#you do not have to specify an exact number for one of the dimensions in the reshape method.\n",
    "#Pass -1 as the value, and NumPy will calculate this number for you.\n",
    "newarr = arr.reshape(2, 2, -1)\n",
    "print(newarr)"
   ]
  },
  {
   "cell_type": "code",
   "execution_count": 36,
   "metadata": {},
   "outputs": [
    {
     "data": {
      "text/plain": [
       "array([ 1,  2,  3,  4,  5,  6,  7,  8,  9, 10, 11, 12])"
      ]
     },
     "execution_count": 36,
     "metadata": {},
     "output_type": "execute_result"
    }
   ],
   "source": [
    "#Flattening array (reshape(-1)) means converting a multidimensional array into a 1D array.\n",
    "newarr = arr.reshape(-1)\n",
    "newarr"
   ]
  },
  {
   "cell_type": "code",
   "execution_count": 37,
   "metadata": {},
   "outputs": [
    {
     "data": {
      "text/plain": [
       "array([[ 0,  5, 10],\n",
       "       [ 1,  6, 11],\n",
       "       [ 2,  7, 12],\n",
       "       [ 3,  8, 13],\n",
       "       [ 4,  9, 14]])"
      ]
     },
     "execution_count": 37,
     "metadata": {},
     "output_type": "execute_result"
    }
   ],
   "source": [
    "# .T to transpose the array\n",
    "arr = np.arange(15).reshape((3, 5))\n",
    "arr.T"
   ]
  },
  {
   "cell_type": "code",
   "execution_count": 38,
   "metadata": {},
   "outputs": [],
   "source": [
    "# np.dot(array1,array2) to calaculate the inner product"
   ]
  },
  {
   "cell_type": "code",
   "execution_count": 39,
   "metadata": {},
   "outputs": [
    {
     "data": {
      "text/plain": [
       "array([[125, 140, 155, 170, 185],\n",
       "       [140, 158, 176, 194, 212],\n",
       "       [155, 176, 197, 218, 239],\n",
       "       [170, 194, 218, 242, 266],\n",
       "       [185, 212, 239, 266, 293]])"
      ]
     },
     "execution_count": 39,
     "metadata": {},
     "output_type": "execute_result"
    }
   ],
   "source": [
    "# also @ to matrix multiplication\n",
    "arr.T@arr"
   ]
  },
  {
   "cell_type": "code",
   "execution_count": 40,
   "metadata": {},
   "outputs": [
    {
     "data": {
      "text/plain": [
       "numpy.random._generator.Generator"
      ]
     },
     "execution_count": 40,
     "metadata": {},
     "output_type": "execute_result"
    }
   ],
   "source": [
    "#random array generator\n",
    "rng=np.random.default_rng()\n",
    "type(rng)\n",
    "#these are pseudorandom as fixing the seed will give same no. always say .default_rng(seed=100)"
   ]
  },
  {
   "cell_type": "code",
   "execution_count": 41,
   "metadata": {},
   "outputs": [
    {
     "name": "stdout",
     "output_type": "stream",
     "text": [
      "0.23036737824150233\n",
      "-0.23877987101927312\n",
      "0.6163366310817505\n",
      "4\n"
     ]
    }
   ],
   "source": [
    "print(rng.random()) #generate random floating-point numbers in the range [0.0, 1.0)\n",
    "print(rng.standard_normal()) #Draw samples from a standard normal distribution\n",
    "print(rng.uniform()) #Draw samples from a uniform distribution #has low and high parameters #rng.uniform(low=0, high=1)\n",
    "print(rng.integers(5)) #Draw random integers from a given low-to-high range #rng.integers(low) #chuityaap h bada"
   ]
  },
  {
   "cell_type": "code",
   "execution_count": 42,
   "metadata": {},
   "outputs": [
    {
     "name": "stdout",
     "output_type": "stream",
     "text": [
      "[[0.64242066 0.43129027 0.06757685]\n",
      " [0.854047   0.29206288 0.83448988]\n",
      " [0.11782223 0.78098907 0.08793032]\n",
      " [0.98004916 0.04448735 0.83934063]\n",
      " [0.90747935 0.65165656 0.61615831]]\n",
      "[[3 2 3]\n",
      " [2 2 3]]\n",
      "[[2.91677734 1.32070284 2.82618755]\n",
      " [1.95724738 4.01739049 3.99812239]]\n",
      "[[-0.23148799  0.64762401  0.15652818]\n",
      " [ 0.73003559  0.50497233 -0.46379014]]\n"
     ]
    }
   ],
   "source": [
    "print(rng.random((5, 3)))\n",
    "print(rng.integers(size=(2, 3), low=1, high=5))\n",
    "print(rng.uniform(size=(2, 3), low=1, high=5))\n",
    "print(rng.standard_normal(size=(2, 3)))"
   ]
  },
  {
   "cell_type": "code",
   "execution_count": 43,
   "metadata": {},
   "outputs": [
    {
     "name": "stdout",
     "output_type": "stream",
     "text": [
      "[0.         1.         1.41421356 1.73205081 2.         2.23606798\n",
      " 2.44948974 2.64575131 2.82842712 3.        ]\n",
      "[1.00000000e+00 2.71828183e+00 7.38905610e+00 2.00855369e+01\n",
      " 5.45981500e+01 1.48413159e+02 4.03428793e+02 1.09663316e+03\n",
      " 2.98095799e+03 8.10308393e+03]\n",
      "[ 1.0288495   0.7658638   1.71490866 -0.34305128  1.21368288  0.50967038\n",
      " -0.27165497  0.42740796]\n"
     ]
    }
   ],
   "source": [
    "#universal functions\n",
    "arr = np.arange(10)\n",
    "print(np.sqrt(arr)) #square root of array\n",
    "print(np.exp(arr)) #exponantial of array\n",
    "x = rng.standard_normal(8)\n",
    "y = rng.standard_normal(8)\n",
    "print(np.maximum(x, y))\n",
    "#interesting one\n",
    "arr= np.array([ 4.5146, -8.1079, -0.7909,  2.2474, -6.718 , -0.4084,  8.6237])\n",
    "remainder, whole_part = np.modf(arr) #create 2 arrays one with intergers and other with fractional value\n"
   ]
  },
  {
   "cell_type": "code",
   "execution_count": 44,
   "metadata": {},
   "outputs": [],
   "source": [
    "#Expressing Conditional Logic\n",
    "#.where() (Important function)\n"
   ]
  },
  {
   "cell_type": "code",
   "execution_count": 45,
   "metadata": {},
   "outputs": [
    {
     "name": "stdout",
     "output_type": "stream",
     "text": [
      "[1.1, 2.2, 1.3, 1.4, 2.5]\n"
     ]
    },
    {
     "data": {
      "text/plain": [
       "[1.1, 2.2, 1.3, 1.4, 2.5]"
      ]
     },
     "execution_count": 45,
     "metadata": {},
     "output_type": "execute_result"
    }
   ],
   "source": [
    "xarr = np.array([1.1, 1.2, 1.3, 1.4, 1.5])\n",
    "yarr = np.array([2.1, 2.2, 2.3, 2.4, 2.5])\n",
    "cond = np.array([True, False, True, True, False])\n",
    "x=[]\n",
    "for i,j in enumerate(cond):\n",
    "    if j:\n",
    "        x.append(xarr[i])\n",
    "    else:\n",
    "        x.append(yarr[i])\n",
    "print(x)\n",
    "#or\n",
    "[xarr[i] if j else yarr[i] for i,j in enumerate(cond)]\n",
    "#or\n",
    "[(x if c else y) for x,y,c in zip(xarr,yarr,cond)] #ingenious\n",
    "        "
   ]
  },
  {
   "cell_type": "code",
   "execution_count": 46,
   "metadata": {},
   "outputs": [
    {
     "data": {
      "text/plain": [
       "array([1.1, 2.2, 1.3, 1.4, 2.5])"
      ]
     },
     "execution_count": 46,
     "metadata": {},
     "output_type": "execute_result"
    }
   ],
   "source": [
    "r = np.where(cond, xarr, yarr) #simple #cond must be boolean\n",
    "r"
   ]
  },
  {
   "cell_type": "code",
   "execution_count": 47,
   "metadata": {},
   "outputs": [
    {
     "name": "stdout",
     "output_type": "stream",
     "text": [
      "[[1 8]\n",
      " [3 4]]\n"
     ]
    }
   ],
   "source": [
    "#syntax numpy.where(condition, x, y) #x if true and y if false \n",
    "#condition array_like, bool Where True, yield x, otherwise yield y.\n",
    "#x, y array_like\n",
    "print(np.where([[True, False], [True, True]],\n",
    "         [[1, 2], [3, 4]],\n",
    "         [[9, 8], [7, 6]]))"
   ]
  },
  {
   "cell_type": "code",
   "execution_count": 48,
   "metadata": {},
   "outputs": [
    {
     "data": {
      "text/plain": [
       "array([[-2, -2, -2,  2],\n",
       "       [-2, -2, -2, -2],\n",
       "       [ 2, -2, -2, -2],\n",
       "       [-2,  2, -2, -2]])"
      ]
     },
     "execution_count": 48,
     "metadata": {},
     "output_type": "execute_result"
    }
   ],
   "source": [
    "arr = rng.standard_normal((4, 4))\n",
    "np.where(arr>0,2,-2)"
   ]
  },
  {
   "cell_type": "code",
   "execution_count": 49,
   "metadata": {},
   "outputs": [
    {
     "name": "stdout",
     "output_type": "stream",
     "text": [
      "[[1 2 1 3]\n",
      " [4 3 2 3]\n",
      " [4 4 4 2]\n",
      " [3 1 3 3]\n",
      " [1 3 4 4]]\n",
      "2.75\n",
      "55\n",
      "2.75\n"
     ]
    }
   ],
   "source": [
    "#mathematical and statistical methods\n",
    "arr= rng.integers(size=(5,4),low=1,high=5)\n",
    "print(arr)\n",
    "print(arr.mean())\n",
    "print(arr.sum())\n",
    "print(np.mean(arr))"
   ]
  },
  {
   "cell_type": "code",
   "execution_count": 50,
   "metadata": {},
   "outputs": [
    {
     "name": "stdout",
     "output_type": "stream",
     "text": [
      "[13 13 14 15]\n",
      "[ 7 12 14 10 12]\n"
     ]
    }
   ],
   "source": [
    "#Functions like mean and sum take an optional axis argument that computes the statistic over the given axis,\n",
    "#resulting in an array with one less dimension\n",
    "print(arr.sum(axis=0)) #arr.sum(axis=0) means \"compute sum down the rows.\"\n",
    "print(arr.sum(axis=1)) #arr.sum(axis=1) means \"compute mean across the columns,\""
   ]
  },
  {
   "cell_type": "code",
   "execution_count": 51,
   "metadata": {},
   "outputs": [
    {
     "name": "stdout",
     "output_type": "stream",
     "text": [
      "[ 1  3  4  7 11 14 16 19 23 27 31 33 36 37 40 43 44 47 51 55]\n",
      "[[ 1  2  1  3]\n",
      " [ 5  5  3  6]\n",
      " [ 9  9  7  8]\n",
      " [12 10 10 11]\n",
      " [13 13 14 15]]\n",
      "[[ 1  3  4  7]\n",
      " [ 4  7  9 12]\n",
      " [ 4  8 12 14]\n",
      " [ 3  4  7 10]\n",
      " [ 1  4  8 12]]\n"
     ]
    }
   ],
   "source": [
    "print(arr.cumsum())\n",
    "print(arr.cumsum(axis=0))\n",
    "print(arr.cumsum(axis=1))"
   ]
  },
  {
   "cell_type": "code",
   "execution_count": 52,
   "metadata": {},
   "outputs": [],
   "source": [
    "#other mathematical functions\n",
    "#std, var\tStandard deviation and variance, respectively\n",
    "#min, max\tMinimum and maximum\n",
    "#argmin, argmax\tIndices of minimum and maximum elements, respectively\n",
    "#cumprod\tCumulative product of elements starting from 1"
   ]
  },
  {
   "cell_type": "code",
   "execution_count": 53,
   "metadata": {},
   "outputs": [
    {
     "data": {
      "text/plain": [
       "51"
      ]
     },
     "execution_count": 53,
     "metadata": {},
     "output_type": "execute_result"
    }
   ],
   "source": [
    "#another use of sum\n",
    "#sum is often used as a means of counting True values in a Boolean array:\n",
    "arr = rng.standard_normal(100)\n",
    "(arr > 0).sum() # Number of positive values"
   ]
  },
  {
   "cell_type": "code",
   "execution_count": 54,
   "metadata": {},
   "outputs": [
    {
     "data": {
      "text/plain": [
       "(True, False)"
      ]
     },
     "execution_count": 54,
     "metadata": {},
     "output_type": "execute_result"
    }
   ],
   "source": [
    "bools = np.array([False, False, True, False])\n",
    "bools.any(),bools.all()\n"
   ]
  },
  {
   "cell_type": "code",
   "execution_count": 61,
   "metadata": {},
   "outputs": [
    {
     "data": {
      "text/plain": [
       "array([[-0.31327067, -0.85809795,  1.05872773],\n",
       "       [ 0.58171327, -0.22109866, -0.64061888],\n",
       "       [-1.10241692, -0.93941873,  0.4425667 ],\n",
       "       [-1.64368274, -0.24029416,  1.06910617],\n",
       "       [ 1.30373098, -0.20367402,  1.10501291]])"
      ]
     },
     "execution_count": 61,
     "metadata": {},
     "output_type": "execute_result"
    }
   ],
   "source": [
    "#sorting in numpy\n",
    "q = rng.standard_normal((5, 3))\n",
    "q"
   ]
  },
  {
   "cell_type": "code",
   "execution_count": 64,
   "metadata": {},
   "outputs": [
    {
     "data": {
      "text/plain": [
       "array([[-1.64368274, -0.93941873, -0.64061888],\n",
       "       [-1.10241692, -0.85809795,  0.4425667 ],\n",
       "       [-0.31327067, -0.24029416,  1.05872773],\n",
       "       [ 0.58171327, -0.22109866,  1.06910617],\n",
       "       [ 1.30373098, -0.20367402,  1.10501291]])"
      ]
     },
     "execution_count": 64,
     "metadata": {},
     "output_type": "execute_result"
    }
   ],
   "source": [
    "q.sort(axis=0)\n",
    "q"
   ]
  },
  {
   "cell_type": "code",
   "execution_count": 66,
   "metadata": {},
   "outputs": [
    {
     "data": {
      "text/plain": [
       "array([[-1.64368274, -0.93941873, -0.64061888],\n",
       "       [-1.10241692, -0.85809795,  0.4425667 ],\n",
       "       [-0.31327067, -0.24029416,  1.05872773],\n",
       "       [-0.22109866,  0.58171327,  1.06910617],\n",
       "       [-0.20367402,  1.10501291,  1.30373098]])"
      ]
     },
     "execution_count": 66,
     "metadata": {},
     "output_type": "execute_result"
    }
   ],
   "source": [
    "q.sort(axis=1)\n",
    "q"
   ]
  },
  {
   "cell_type": "code",
   "execution_count": 67,
   "metadata": {},
   "outputs": [
    {
     "data": {
      "text/plain": [
       "array([0, 1, 2, 3, 4, 5, 6, 7, 8, 9])"
      ]
     },
     "execution_count": 67,
     "metadata": {},
     "output_type": "execute_result"
    }
   ],
   "source": [
    "#save and load array\n",
    "arr = np.arange(10)\n",
    "np.save(\"some_array\", arr)\n",
    "np.load(\"some_array.npy\")"
   ]
  },
  {
   "cell_type": "code",
   "execution_count": 69,
   "metadata": {},
   "outputs": [
    {
     "name": "stdout",
     "output_type": "stream",
     "text": [
      "[0, -1, -2, -1, 0, -1, 0, 1, 0, -1, -2, -1, 0, -1, -2, -1, 0, -1, -2, -1, -2, -3, -2, -1, 0, 1, 0, 1, 0, 1, 0, 1, 0, -1, 0, 1, 2, 1, 2, 3, 4, 5, 6, 5, 4, 3, 4, 5, 6, 7, 6, 5, 4, 5, 4, 3, 4, 5, 6, 5, 4, 3, 2, 3, 2, 3, 4, 3, 2, 3, 4, 5, 6, 7, 8, 7, 6, 7, 6, 7, 6, 5, 6, 5, 6, 5, 6, 5, 4, 3, 4, 5, 4, 3, 2, 1, 2, 1, 0, -1, -2, -3, -2, -3, -4, -5, -4, -3, -2, -3, -2, -3, -4, -3, -2, -3, -2, -1, -2, -1, 0, 1, 0, -1, 0, -1, 0, 1, 2, 3, 4, 5, 4, 3, 4, 3, 4, 3, 2, 3, 2, 1, 0, -1, -2, -3, -4, -5, -4, -5, -4, -3, -2, -3, -2, -3, -2, -3, -4, -3, -2, -3, -4, -3, -2, -1, -2, -3, -2, -3, -2, -3, -2, -1, -2, -3, -2, -3, -4, -5, -4, -3, -2, -3, -4, -3, -2, -3, -2, -3, -4, -5, -4, -5, -6, -5, -4, -3, -2, -3, -4, -5, -4, -5, -4, -5, -6, -7, -8, -7, -6, -7, -8, -9, -10, -9, -8, -9, -10, -9, -8, -9, -8, -7, -8, -7, -8, -7, -6, -7, -6, -7, -6, -5, -4, -5, -6, -7, -6, -5, -4, -3, -2, -1, -2, -1, 0, -1, -2, -3, -2, -3, -4, -5, -4, -5, -4, -5, -4, -3, -4, -3, -2, -3, -2, -3, -2, -3, -2, -3, -2, -3, -4, -5, -6, -7, -8, -9, -8, -7, -8, -9, -8, -7, -6, -5, -6, -5, -6, -7, -8, -7, -6, -7, -8, -9, -10, -9, -10, -9, -8, -9, -10, -11, -12, -13, -14, -15, -16, -17, -18, -19, -18, -19, -20, -21, -22, -23, -22, -21, -22, -23, -22, -23, -24, -23, -22, -23, -24, -25, -24, -25, -26, -25, -26, -25, -24, -23, -22, -23, -24, -25, -26, -25, -26, -27, -26, -25, -24, -23, -22, -23, -24, -23, -22, -23, -22, -21, -20, -21, -20, -19, -20, -19, -18, -19, -18, -19, -18, -17, -18, -17, -18, -19, -20, -19, -18, -19, -20, -21, -22, -21, -22, -23, -22, -21, -22, -23, -22, -23, -24, -25, -26, -27, -26, -25, -26, -25, -26, -27, -28, -27, -28, -29, -28, -27, -28, -29, -30, -31, -32, -31, -32, -33, -34, -33, -34, -33, -34, -33, -32, -31, -32, -33, -32, -33, -34, -35, -34, -33, -32, -31, -32, -33, -32, -33, -34, -33, -34, -33, -32, -33, -32, -31, -30, -31, -30, -31, -30, -29, -28, -27, -26, -27, -28, -29, -28, -27, -26, -27, -28, -29, -30, -31, -32, -31, -32, -31, -30, -29, -28, -27, -28, -27, -26, -27, -26, -25, -24, -23, -24, -23, -22, -21, -20, -21, -22, -21, -22, -21, -20, -21, -22, -21, -22, -21, -20, -19, -18, -19, -20, -21, -20, -19, -18, -19, -18, -17, -18, -19, -20, -21, -20, -21, -20, -19, -20, -21, -20, -19, -20, -21, -20, -19, -20, -19, -18, -17, -16, -17, -16, -15, -16, -17, -18, -19, -18, -17, -18, -19, -20, -21, -22, -23, -24, -25, -26, -27, -28, -27, -26, -25, -24, -23, -24, -23, -24, -23, -22, -23, -22, -21, -20, -21, -22, -23, -24, -25, -24, -23, -22, -23, -22, -21, -22, -23, -22, -21, -22, -21, -20, -21, -22, -21, -22, -23, -24, -23, -24, -23, -24, -23, -22, -21, -22, -21, -22, -21, -20, -21, -22, -23, -24, -25, -26, -27, -26, -25, -24, -25, -26, -25, -26, -27, -28, -27, -28, -29, -30, -31, -32, -33, -34, -33, -34, -33, -32, -31, -32, -33, -34, -35, -34, -35, -36, -37, -38, -37, -38, -39, -40, -39, -38, -39, -40, -39, -38, -37, -36, -37, -36, -37, -36, -35, -34, -35, -34, -33, -32, -31, -30, -29, -28, -29, -28, -27, -28, -29, -30, -31, -30, -31, -30, -31, -32, -33, -34, -35, -34, -35, -36, -35, -36, -35, -36, -35, -34, -35, -34, -33, -32, -33, -34, -33, -32, -31, -30, -29, -30, -29, -28, -27, -26, -27, -28, -27, -26, -27, -26, -27, -26, -27, -28, -29, -30, -29, -30, -31, -32, -31, -30, -29, -28, -29, -30, -31, -32, -31, -32, -31, -32, -31, -32, -31, -32, -31, -30, -31, -30, -31, -30, -31, -32, -33, -32, -33, -34, -33, -32, -31, -30, -29, -28, -27, -26, -25, -26, -25, -26, -27, -28, -27, -28, -27, -28, -27, -26, -27, -28, -27, -28, -27, -28, -27, -26, -25, -24, -25, -26, -25, -26, -27, -28, -29, -30, -31, -32, -33, -34, -35, -36, -37, -38, -37, -38, -39, -40, -39, -38, -37, -36, -37, -36, -37, -36, -35, -34, -35, -34, -33, -34, -35, -36, -37, -36, -37, -36, -37, -38, -37, -38, -39, -40, -39, -38, -39, -40, -41, -40, -39, -38, -39, -38, -37, -38, -39, -40, -39, -40, -41, -40, -41, -42, -41, -42, -41, -42, -43, -44, -43, -42, -43, -44, -45, -44, -43, -44, -45, -46, -47, -46, -47, -48, -47, -46, -45, -46, -47, -48, -47, -48, -49, -48, -47, -46, -47, -48, -49, -50, -51, -50, -49, -50, -49, -48, -49, -50, -51, -52, -53, -52, -53, -52, -51, -52, -51, -52, -53, -52, -51, -50, -51, -52, -53, -52, -51, -50, -49, -48, -49, -48, -49, -48, -47, -46, -45, -46, -47, -48, -49, -48, -49, -50, -49, -48, -47, -48, -49, -48, -49, -48, -47, -48, -49, -50, -51, -50, -49, -50, -51, -52, -53, -54, -53, -52, -53, -52, -53, -54, -55, -56, -57, -56, -57, -58, -57, -56, -55, -56, -57, -56, -55, -54, -53, -52, -53, -52, -51, -50, -51, -52, -51, -50, -49, -48, -49, -50, -49, -50, -51, -50, -49, -48, -49, -48, -47, -46, -45, -46, -45, -46, -45, -46, -47, -46, -45, -44, -45, -46, -47, -48]\n"
     ]
    }
   ],
   "source": [
    "# Random walk code\n",
    "import random\n",
    "position = 0\n",
    "walk = [position]\n",
    "nsteps = 1000\n",
    "for _ in range(nsteps):\n",
    "    step = 1 if random.randint(0, 1) else -1\n",
    "    position += step\n",
    "    walk.append(position)\n",
    "print(walk)"
   ]
  },
  {
   "cell_type": "code",
   "execution_count": null,
   "metadata": {},
   "outputs": [],
   "source": []
  }
 ],
 "metadata": {
  "kernelspec": {
   "display_name": "Python 3",
   "language": "python",
   "name": "python3"
  },
  "language_info": {
   "codemirror_mode": {
    "name": "ipython",
    "version": 3
   },
   "file_extension": ".py",
   "mimetype": "text/x-python",
   "name": "python",
   "nbconvert_exporter": "python",
   "pygments_lexer": "ipython3",
   "version": "3.8.5"
  }
 },
 "nbformat": 4,
 "nbformat_minor": 4
}
