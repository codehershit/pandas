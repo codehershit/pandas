{
 "cells": [
  {
   "cell_type": "code",
   "execution_count": null,
   "metadata": {},
   "outputs": [],
   "source": [
    "# slice Operator for lists, tuples and strings x[start:stop:step] or x[slice(start,stop,step)]. default of start=0, stop=end and step=1. Can pass -ve indexes."
   ]
  },
  {
   "cell_type": "code",
   "execution_count": 1,
   "metadata": {},
   "outputs": [],
   "source": [
    "seq = [7, 2, 3, 7, 5, 6, 0, 1]"
   ]
  },
  {
   "cell_type": "code",
   "execution_count": 10,
   "metadata": {},
   "outputs": [
    {
     "data": {
      "text/plain": [
       "[1, 0, 6, 5, 7, 3, 2, 7]"
      ]
     },
     "execution_count": 10,
     "metadata": {},
     "output_type": "execute_result"
    }
   ],
   "source": [
    "seq[::-1]"
   ]
  },
  {
   "cell_type": "code",
   "execution_count": 11,
   "metadata": {},
   "outputs": [],
   "source": [
    "se = (7, 2, 3, 7, 5, 6, 0, 1)"
   ]
  },
  {
   "cell_type": "code",
   "execution_count": 13,
   "metadata": {},
   "outputs": [
    {
     "data": {
      "text/plain": [
       "(2, 3, 7, 5)"
      ]
     },
     "execution_count": 13,
     "metadata": {},
     "output_type": "execute_result"
    }
   ],
   "source": [
    "se[1:5]"
   ]
  },
  {
   "cell_type": "code",
   "execution_count": 59,
   "metadata": {},
   "outputs": [
    {
     "data": {
      "text/plain": [
       "(3, 7, 5, 6, 0)"
      ]
     },
     "execution_count": 59,
     "metadata": {},
     "output_type": "execute_result"
    }
   ],
   "source": [
    "se[slice(2,7)]"
   ]
  },
  {
   "cell_type": "code",
   "execution_count": 60,
   "metadata": {},
   "outputs": [],
   "source": [
    "#zip function iterates tuples,lists or other sequences where the first item in each passed iterator is paired together, and so on. \n",
    "#if passed iterables have different lengths, the iterable with the least items decides the length of the new iterator."
   ]
  },
  {
   "cell_type": "code",
   "execution_count": 64,
   "metadata": {},
   "outputs": [],
   "source": [
    "a = (\"John\", \"Charles\")\n",
    "b = (\"Jenny\", \"Christy\", \"Monica\")\n",
    "c = (1,2,3)\n",
    "\n",
    "x = zip(a, b,c)"
   ]
  },
  {
   "cell_type": "code",
   "execution_count": 65,
   "metadata": {},
   "outputs": [
    {
     "data": {
      "text/plain": [
       "<zip at 0x25f599b0440>"
      ]
     },
     "execution_count": 65,
     "metadata": {},
     "output_type": "execute_result"
    }
   ],
   "source": [
    "x"
   ]
  },
  {
   "cell_type": "code",
   "execution_count": 66,
   "metadata": {},
   "outputs": [
    {
     "name": "stdout",
     "output_type": "stream",
     "text": [
      "[('John', 'Jenny', 1), ('Charles', 'Christy', 2)]\n"
     ]
    }
   ],
   "source": [
    "#to look at an obeject convert to a list or tuple\n",
    "print(list(x))"
   ]
  },
  {
   "cell_type": "code",
   "execution_count": 16,
   "metadata": {},
   "outputs": [],
   "source": [
    "# some things about dictionary.\n",
    "# syntax dict={}. dict has key value pair.  dict[key] will give the value.\n",
    "#If b in dict: means if a key 'b' is in dictionary.\n"
   ]
  },
  {
   "cell_type": "code",
   "execution_count": 43,
   "metadata": {},
   "outputs": [],
   "source": [
    "d1 = {\"a\": \"some value\", \"b\": [1, 2, 3, 4], 67: \"4656\", 98: \"jjfe\"}"
   ]
  },
  {
   "cell_type": "code",
   "execution_count": 44,
   "metadata": {},
   "outputs": [
    {
     "data": {
      "text/plain": [
       "'some value'"
      ]
     },
     "execution_count": 44,
     "metadata": {},
     "output_type": "execute_result"
    }
   ],
   "source": [
    "d1['a']"
   ]
  },
  {
   "cell_type": "code",
   "execution_count": 45,
   "metadata": {},
   "outputs": [
    {
     "data": {
      "text/plain": [
       "True"
      ]
     },
     "execution_count": 45,
     "metadata": {},
     "output_type": "execute_result"
    }
   ],
   "source": [
    "'b' in d1"
   ]
  },
  {
   "cell_type": "code",
   "execution_count": 46,
   "metadata": {},
   "outputs": [],
   "source": [
    "#if we need to add a new key value pair to the dictionary or edit the previous value of a key \n",
    "#simply dict[key]=value or dict.update({key:value})"
   ]
  },
  {
   "cell_type": "code",
   "execution_count": 47,
   "metadata": {},
   "outputs": [],
   "source": [
    "d1[23]= 'taha'"
   ]
  },
  {
   "cell_type": "code",
   "execution_count": 55,
   "metadata": {},
   "outputs": [
    {
     "data": {
      "text/plain": [
       "{'b': [1, 2, 3, 4], 67: '4656', 98: 'jjfe'}"
      ]
     },
     "execution_count": 55,
     "metadata": {},
     "output_type": "execute_result"
    }
   ],
   "source": [
    "d1"
   ]
  },
  {
   "cell_type": "code",
   "execution_count": 57,
   "metadata": {},
   "outputs": [],
   "source": [
    "d1[23] = \"baba\""
   ]
  },
  {
   "cell_type": "code",
   "execution_count": 58,
   "metadata": {},
   "outputs": [
    {
     "data": {
      "text/plain": [
       "{'b': [1, 2, 3, 4], 67: '4656', 98: 'jjfe', 23: 'baba'}"
      ]
     },
     "execution_count": 58,
     "metadata": {},
     "output_type": "execute_result"
    }
   ],
   "source": [
    "d1"
   ]
  },
  {
   "cell_type": "code",
   "execution_count": 49,
   "metadata": {},
   "outputs": [],
   "source": [
    "#to remove either del dict[key] or dict.pop(key). pop also returns the value thats deleted, del doesnot"
   ]
  },
  {
   "cell_type": "code",
   "execution_count": 50,
   "metadata": {},
   "outputs": [
    {
     "data": {
      "text/plain": [
       "'taha'"
      ]
     },
     "execution_count": 50,
     "metadata": {},
     "output_type": "execute_result"
    }
   ],
   "source": [
    "d1.pop(23)"
   ]
  },
  {
   "cell_type": "code",
   "execution_count": 51,
   "metadata": {},
   "outputs": [],
   "source": [
    "del d1['a']"
   ]
  },
  {
   "cell_type": "code",
   "execution_count": 52,
   "metadata": {},
   "outputs": [],
   "source": [
    "# to call out all keys d1.keys() to call out all values d1.values()"
   ]
  },
  {
   "cell_type": "code",
   "execution_count": 53,
   "metadata": {},
   "outputs": [
    {
     "data": {
      "text/plain": [
       "['b', 67, 98]"
      ]
     },
     "execution_count": 53,
     "metadata": {},
     "output_type": "execute_result"
    }
   ],
   "source": [
    "list(d1.keys())"
   ]
  },
  {
   "cell_type": "code",
   "execution_count": 54,
   "metadata": {},
   "outputs": [
    {
     "data": {
      "text/plain": [
       "[[1, 2, 3, 4], '4656', 'jjfe']"
      ]
     },
     "execution_count": 54,
     "metadata": {},
     "output_type": "execute_result"
    }
   ],
   "source": [
    "list(d1.values())"
   ]
  },
  {
   "cell_type": "code",
   "execution_count": null,
   "metadata": {},
   "outputs": [],
   "source": [
    "#the setdefault() method returns the value of the item with the specified key.If the key does not exist, insert the key, with the specified value\n",
    "#dictionary.setdefault(keyname, value)\n",
    "#keyname\tRequired. The keyname of the item you want to return the value from\n",
    "#value\tOptional.\n",
    "#If the key exist, this parameter has no effect.\n",
    "#If the key does not exist, this value becomes the key's value\n",
    "#Default value None"
   ]
  },
  {
   "cell_type": "code",
   "execution_count": 70,
   "metadata": {},
   "outputs": [
    {
     "data": {
      "text/plain": [
       "{'a': ['apple', 'atom'], 'b': ['bat', 'bar', 'book']}"
      ]
     },
     "execution_count": 70,
     "metadata": {},
     "output_type": "execute_result"
    }
   ],
   "source": [
    "words = [\"apple\", \"bat\", \"bar\", \"atom\", \"book\"]\n",
    "by_letter = {}\n",
    "for word in words:\n",
    "    letter = word[0] #filter the first letter\n",
    "    by_letter.setdefault(letter, []).append(word) # by_letter.setdefault(letter, []) this part will create an empty list for that letter and also retuns that list which .append will start appending on\n",
    "    \n",
    "by_letter"
   ]
  },
  {
   "cell_type": "code",
   "execution_count": 71,
   "metadata": {},
   "outputs": [],
   "source": [
    "#defaultdict"
   ]
  },
  {
   "cell_type": "code",
   "execution_count": 72,
   "metadata": {},
   "outputs": [],
   "source": [
    "#set\n",
    "#doesn't contain dulipcate values "
   ]
  },
  {
   "cell_type": "code",
   "execution_count": 74,
   "metadata": {},
   "outputs": [
    {
     "data": {
      "text/plain": [
       "{2, 3, 4, 5, 6}"
      ]
     },
     "execution_count": 74,
     "metadata": {},
     "output_type": "execute_result"
    }
   ],
   "source": [
    "{2, 2, 2, 1, 3, 3}\n",
    "set([2,3,4,5,6,6,6])"
   ]
  },
  {
   "cell_type": "code",
   "execution_count": null,
   "metadata": {},
   "outputs": [],
   "source": [
    "#Python set operations\n",
    "#a.add(x)\tN/A\tAdd element x to set a\n",
    "#a.clear()\tN/A\tReset set a to an empty state, discarding all of its elements\n",
    "#a.remove(x)\tN/A\tRemove element x from set a\n",
    "#a.pop()\tN/A\tRemove an arbitrary element from set a, raising KeyError if the set is empty\n",
    "#a.union(b)\ta | b\tAll of the unique elements in a and b\n",
    "#a.update(b)\ta |= b\tSet the contents of a to be the union of the elements in a and b\n",
    "#a.intersection(b)\ta & b\tAll of the elements in both a and b\n",
    "#a.intersection_update(b)\ta &= b\tSet the contents of a to be the intersection of the elements in a and b\n",
    "#a.difference(b)\ta - b\tThe elements in a that are not in b\n",
    "#a.difference_update(b)\ta -= b\tSet a to the elements in a that are not in b\n",
    "#a.symmetric_difference(b)\ta ^ b\tAll of the elements in either a or b but not both\n",
    "#a.symmetric_difference_update(b)\ta ^= b\tSet a to contain the elements in either a or b but not both\n",
    "#a.issubset(b)\t<=\tTrue if the elements of a are all contained in b\n",
    "#a.issuperset(b)\t>=\tTrue if the elements of b are all contained in a\n",
    "#a.isdisjoint(b)\tN/A\tTrue if a and b have no elements in common\n"
   ]
  },
  {
   "cell_type": "code",
   "execution_count": 81,
   "metadata": {},
   "outputs": [],
   "source": [
    "#enumerate function makes a sequence to want to keep track of the index of the current item\n",
    "#enumerate, which returns a sequence of (i, value) tuples:"
   ]
  },
  {
   "cell_type": "code",
   "execution_count": 84,
   "metadata": {},
   "outputs": [
    {
     "name": "stdout",
     "output_type": "stream",
     "text": [
      "the 0 value is 1\n",
      "the 1 value is 2\n",
      "the 2 value is 4\n",
      "the 3 value is 5\n"
     ]
    }
   ],
   "source": [
    "y=[1,2,4,5]\n",
    "for index, value in enumerate(y):\n",
    "    print(f'the {index} value is {value}')"
   ]
  },
  {
   "cell_type": "code",
   "execution_count": 85,
   "metadata": {},
   "outputs": [
    {
     "data": {
      "text/plain": [
       "[0, 1, 2, 2, 3, 6, 7]"
      ]
     },
     "execution_count": 85,
     "metadata": {},
     "output_type": "execute_result"
    }
   ],
   "source": [
    "#sorted function returns a new sorted list from the elements of any sequence\n",
    "#sorted(iterable, key, reverse)\n",
    "#key\tOptional. A Function to execute to decide the order. Default is None\n",
    "#reverse\tOptional. A Boolean. False will sort ascending, True will sort descending. Default is False\n",
    "sorted([7, 1, 2, 6, 0, 3, 2])"
   ]
  },
  {
   "cell_type": "code",
   "execution_count": 86,
   "metadata": {},
   "outputs": [
    {
     "name": "stdout",
     "output_type": "stream",
     "text": [
      "[11, 12, 5, 3, 17, 2, 1]\n"
     ]
    }
   ],
   "source": [
    "def myfunc(n):\n",
    "  return abs(10-n)  #abs is modulus\n",
    "\n",
    "a = (5, 3, 1, 11, 2, 12, 17)\n",
    "x = sorted(a, key=myfunc)\n",
    "print(x)"
   ]
  },
  {
   "cell_type": "code",
   "execution_count": 87,
   "metadata": {},
   "outputs": [
    {
     "data": {
      "text/plain": [
       "[9, 8, 7, 6, 5, 4, 3, 2, 1, 0]"
      ]
     },
     "execution_count": 87,
     "metadata": {},
     "output_type": "execute_result"
    }
   ],
   "source": [
    "#reversed iterates over the elements of a sequence in reverse order:\n",
    "list(reversed(range(10)))"
   ]
  },
  {
   "cell_type": "code",
   "execution_count": 88,
   "metadata": {},
   "outputs": [
    {
     "data": {
      "text/plain": [
       "['BAT', 'CAR', 'DOVE', 'PYTHON']"
      ]
     },
     "execution_count": 88,
     "metadata": {},
     "output_type": "execute_result"
    }
   ],
   "source": [
    "#List, Set, and Dictionary Comprehensions\n",
    "#result = []\n",
    "#for value in collection:\n",
    " #   if condition:\n",
    "  #      result.append(expr)\n",
    "\n",
    "#is equivalent to\n",
    "#[expr for value in collection if condition]\n",
    "strings = [\"a\", \"as\", \"bat\", \"car\", \"dove\", \"python\"]\n",
    "[x.upper() for x in strings if len(x) > 2]"
   ]
  },
  {
   "cell_type": "code",
   "execution_count": 92,
   "metadata": {},
   "outputs": [],
   "source": [
    "#similar with dictionay comprehensions\n",
    "#dict_comp = {key-expr: value-expr for value in collection if condition}"
   ]
  },
  {
   "cell_type": "code",
   "execution_count": 93,
   "metadata": {},
   "outputs": [
    {
     "data": {
      "text/plain": [
       "{'a': 0, 'as': 1, 'bat': 2, 'car': 3, 'dove': 4, 'python': 5}"
      ]
     },
     "execution_count": 93,
     "metadata": {},
     "output_type": "execute_result"
    }
   ],
   "source": [
    "loc_mapping = {value: index for index, value in enumerate(strings)}\n",
    "loc_mapping"
   ]
  },
  {
   "cell_type": "code",
   "execution_count": 94,
   "metadata": {},
   "outputs": [],
   "source": [
    "# map function\n",
    "#is used to update an iteratable like list\n",
    "#map(fun, iter)\n",
    "#NOTE: You can pass one or more iterable to the map() function.\n",
    "#fun: It is a function to which map passes each element of given iterable.\n",
    "#iter: It is iterable which is to be mapped.\n",
    "#Returns: Returns a list of the results after applying the given function to each item of a given iterable (list, tuple etc.)"
   ]
  },
  {
   "cell_type": "code",
   "execution_count": 95,
   "metadata": {},
   "outputs": [
    {
     "name": "stdout",
     "output_type": "stream",
     "text": [
      "[2, 4, 6, 8]\n"
     ]
    }
   ],
   "source": [
    "def addition(n):\n",
    "    return n + n\n",
    "\n",
    "# We double all numbers using map()\n",
    "numbers = (1, 2, 3, 4)\n",
    "result = map(addition, numbers)\n",
    "print(list(result))"
   ]
  },
  {
   "cell_type": "code",
   "execution_count": null,
   "metadata": {},
   "outputs": [],
   "source": [
    "#nested list comprehenshion\n",
    "#The for parts of the list comprehension are arranged according to the order of nesting, \n",
    "#and any filter condition is put at the end as before."
   ]
  },
  {
   "cell_type": "code",
   "execution_count": 99,
   "metadata": {},
   "outputs": [
    {
     "data": {
      "text/plain": [
       "['Maria', 'Natalia']"
      ]
     },
     "execution_count": 99,
     "metadata": {},
     "output_type": "execute_result"
    }
   ],
   "source": [
    "all_data = [[\"John\", \"Emily\", \"Michael\", \"Mary\", \"Steven\"],[\"Maria\", \"Juan\", \"Javier\", \"Natalia\", \"Pilar\"]]\n",
    "t=[]\n",
    "for x in all_data:\n",
    "    for y in x:\n",
    "        if y.count('a')>=2:\n",
    "            t.append(y)\n",
    "            \n",
    "t"
   ]
  },
  {
   "cell_type": "code",
   "execution_count": 102,
   "metadata": {},
   "outputs": [
    {
     "data": {
      "text/plain": [
       "['Maria', 'Natalia']"
      ]
     },
     "execution_count": 102,
     "metadata": {},
     "output_type": "execute_result"
    }
   ],
   "source": [
    "#or\n",
    "c=[y for x in all_data for y in x if y.count('a')>=2]\n",
    "c"
   ]
  },
  {
   "cell_type": "code",
   "execution_count": 103,
   "metadata": {},
   "outputs": [],
   "source": [
    "#functions\n",
    "def my_function(x, y):\n",
    "    return x + y\n",
    "#without encountering a return statement, None is returned automatically"
   ]
  },
  {
   "cell_type": "code",
   "execution_count": 104,
   "metadata": {},
   "outputs": [],
   "source": [
    "#Each function can have positional arguments (should be defined) and keyword arguments (optional, default already defined).\n",
    "def my_function2(x, y, z=1.5):\n",
    "    if z > 1:\n",
    "        return z * (x + y)\n",
    "    else:\n",
    "        return z / (x + y)"
   ]
  },
  {
   "cell_type": "code",
   "execution_count": 105,
   "metadata": {},
   "outputs": [
    {
     "data": {
      "text/plain": [
       "35.49"
      ]
     },
     "execution_count": 105,
     "metadata": {},
     "output_type": "execute_result"
    }
   ],
   "source": [
    "my_function2(3.14, 7, 3.5)"
   ]
  },
  {
   "cell_type": "code",
   "execution_count": 106,
   "metadata": {},
   "outputs": [],
   "source": [
    "#The main restriction on function arguments is that the keyword arguments must follow the positional arguments"
   ]
  },
  {
   "cell_type": "code",
   "execution_count": 107,
   "metadata": {},
   "outputs": [],
   "source": [
    "#Functions can access variables created inside the function \n",
    "#as well as those outside the function in higher (or even global) scopes."
   ]
  },
  {
   "cell_type": "code",
   "execution_count": 112,
   "metadata": {},
   "outputs": [
    {
     "name": "stdout",
     "output_type": "stream",
     "text": [
      "[]\n"
     ]
    }
   ],
   "source": [
    "#Assigning variables outside of the function's scope is possible, \n",
    "#but those variables must be declared explicitly using either the global or nonlocal keywords:\n",
    "a = None\n",
    "\n",
    "def bind_a_variable():\n",
    "    global a\n",
    "    a = []\n",
    "bind_a_variable()\n",
    "print(a)"
   ]
  },
  {
   "cell_type": "code",
   "execution_count": 113,
   "metadata": {},
   "outputs": [],
   "source": [
    "#returning multiple values\n",
    "def f():\n",
    "    a = 5\n",
    "    b = 6\n",
    "    c = 7\n",
    "    return a, b, c\n",
    "\n",
    "a, b, c = f() \n",
    "#the function is actually just returning one object, a tuple, which is then being unpacked into the result variables."
   ]
  },
  {
   "cell_type": "code",
   "execution_count": 114,
   "metadata": {},
   "outputs": [],
   "source": [
    "#return a dictionary instead\n",
    "def f():\n",
    "    a = 5\n",
    "    b = 6\n",
    "    c = 7\n",
    "    return {\"a\" : a, \"b\" : b, \"c\" : c}"
   ]
  },
  {
   "cell_type": "code",
   "execution_count": 115,
   "metadata": {},
   "outputs": [
    {
     "name": "stdout",
     "output_type": "stream",
     "text": [
      "GEEKSFORGEEKS\n"
     ]
    }
   ],
   "source": [
    "#lambda functions (anonymous function)\n",
    "#syntax lambda arguments : expression\n",
    "#function can have any number of arguments but only one expression, which is evaluated and returned.\n",
    "str1 = 'GeeksforGeeks'\n",
    "\n",
    "upper = lambda string: string.upper()\n",
    "print(upper(str1))"
   ]
  },
  {
   "cell_type": "code",
   "execution_count": 116,
   "metadata": {},
   "outputs": [
    {
     "name": "stdout",
     "output_type": "stream",
     "text": [
      "1\n",
      "2\n",
      "3\n"
     ]
    }
   ],
   "source": [
    "# generator \n",
    "#which generates an iterable\n",
    "# can be used in couple with a for loop\n",
    "#def function_name():\n",
    "   # yield statement \n",
    "#use yield at the end istead of return\n",
    "def simpleGeneratorFun():\n",
    "    yield 1            \n",
    "    yield 2            \n",
    "    yield 3            \n",
    " \n",
    "# Driver code to check above generator function\n",
    "for value in simpleGeneratorFun(): \n",
    "    print(value)"
   ]
  },
  {
   "cell_type": "code",
   "execution_count": 117,
   "metadata": {},
   "outputs": [
    {
     "name": "stdout",
     "output_type": "stream",
     "text": [
      "0\n",
      "10\n",
      "20\n"
     ]
    }
   ],
   "source": [
    "#generator expression\n",
    "#almost same as list comprehension\n",
    "#syntax = (expression for item in iterable)\n",
    "generator_exp = (i * 5 for i in range(5) if i%2==0) #usually () is for tuple, as tuple is not iterable there is no tuple comprehension\n",
    "for i in generator_exp:\n",
    "    print(i)"
   ]
  },
  {
   "cell_type": "code",
   "execution_count": 118,
   "metadata": {},
   "outputs": [],
   "source": [
    "#itertools"
   ]
  },
  {
   "cell_type": "code",
   "execution_count": 121,
   "metadata": {},
   "outputs": [],
   "source": [
    "#read and write files without pandas.reas_csv()\n",
    "#there is a built in open function\n",
    "#f = open(file_name, mode) \n",
    "#f.close() ones done with reading always close\n",
    "\n",
    "#readable(), writable() to check if something is readable or writable\n"
   ]
  },
  {
   "cell_type": "code",
   "execution_count": 122,
   "metadata": {},
   "outputs": [],
   "source": [
    "#mode: This parameter is a string that is used to specify the mode in which the file is to be opened\n",
    "\n",
    "#“r”: read(only) the file. passed as default if no parameter is supplied\n",
    "#“w”: writing on/over the file. If the file with the supplied name doesn’t exist, it creates one for you.\n",
    "#“a”: add(append) content to an existing file. If no such file exists, it creates one for you.\n",
    "#“x”: This string is used to create a specific file.\n",
    "#“b”: user wants to handle the file in binary mode. This is generally used to handle image files.\n",
    "#“t”: This string is used to handle files in text mode. By default, the open() function uses the text mode.\n"
   ]
  },
  {
   "cell_type": "code",
   "execution_count": 136,
   "metadata": {},
   "outputs": [],
   "source": [
    "my_file = open(\"geeksforgeeks.txt\", \"w\")\n",
    "my_file.write(\"Geeksforgeeks is best for DSA\")\n",
    "my_file.close()"
   ]
  },
  {
   "cell_type": "code",
   "execution_count": 137,
   "metadata": {},
   "outputs": [
    {
     "name": "stdout",
     "output_type": "stream",
     "text": [
      "Geeksforgeeks is best for DSA\n"
     ]
    }
   ],
   "source": [
    "#let's read the contents of the file now\n",
    "my_file = open(\"geeksforgeeks.txt\",\"r\")\n",
    "print(my_file.read())"
   ]
  },
  {
   "cell_type": "code",
   "execution_count": 144,
   "metadata": {},
   "outputs": [
    {
     "name": "stdout",
     "output_type": "stream",
     "text": [
      "Geeksforgeeks is best for DSA..>>Visit geeksforgeeks.org for more!!<<....>>Visit geeksforgeeks.org for more!!<<..\n"
     ]
    }
   ],
   "source": [
    "# to append more stuff to the file\n",
    "my_file = open(\"geeksforgeeks.txt\",\"a\")\n",
    "my_file.write(\"..>>Visit geeksforgeeks.org for more!!<<..\")\n",
    "my_file.close()\n",
    " \n",
    "# reading the file\n",
    "my_file = open(\"geeksforgeeks.txt\",\"r\")\n",
    "print(my_file.read())"
   ]
  },
  {
   "cell_type": "code",
   "execution_count": 149,
   "metadata": {},
   "outputs": [
    {
     "data": {
      "text/plain": [
       "'forgeeks i'"
      ]
     },
     "execution_count": 149,
     "metadata": {},
     "output_type": "execute_result"
    }
   ],
   "source": [
    "#read seek tell here\n",
    "#.seek() method resets the file position\n",
    "#.read() method prints and advances the file object position by the number of bytes read. \n",
    "#.tell() gives you the current position\n",
    "#\n",
    "my_file.seek(5)\n",
    "my_file.read(10) #here if read before seek then we would have got no output as we already read through the document\n",
    "#in the previous block and forgot to close it"
   ]
  },
  {
   "cell_type": "code",
   "execution_count": 150,
   "metadata": {},
   "outputs": [
    {
     "data": {
      "text/plain": [
       "15"
      ]
     },
     "execution_count": 150,
     "metadata": {},
     "output_type": "execute_result"
    }
   ],
   "source": [
    "my_file.tell()"
   ]
  },
  {
   "cell_type": "code",
   "execution_count": 151,
   "metadata": {},
   "outputs": [
    {
     "name": "stdout",
     "output_type": "stream",
     "text": [
      "['Geeksforgeeks is best for DSA..>>Visit geeksforgeeks.org for more!!<<....>>Visit geeksforgeeks.org for more!!<<..']\n"
     ]
    }
   ],
   "source": [
    "#ways to make it easier to clean up open files is to use the with statement:\n",
    "with open(\"geeksforgeeks.txt\") as f:\n",
    "    lines = [x.rstrip() for x in f]\n",
    "#This will automatically close the file f when exiting the with block. \n",
    "print(lines)"
   ]
  },
  {
   "cell_type": "code",
   "execution_count": null,
   "metadata": {},
   "outputs": [],
   "source": []
  }
 ],
 "metadata": {
  "kernelspec": {
   "display_name": "Python 3",
   "language": "python",
   "name": "python3"
  },
  "language_info": {
   "codemirror_mode": {
    "name": "ipython",
    "version": 3
   },
   "file_extension": ".py",
   "mimetype": "text/x-python",
   "name": "python",
   "nbconvert_exporter": "python",
   "pygments_lexer": "ipython3",
   "version": "3.8.5"
  }
 },
 "nbformat": 4,
 "nbformat_minor": 4
}
